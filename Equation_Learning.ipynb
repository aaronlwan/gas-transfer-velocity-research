{
  "nbformat": 4,
  "nbformat_minor": 0,
  "metadata": {
    "colab": {
      "provenance": []
    },
    "kernelspec": {
      "name": "python3",
      "display_name": "Python 3"
    },
    "language_info": {
      "name": "python"
    },
    "accelerator": "GPU",
    "gpuClass": "standard"
  },
  "cells": [
    {
      "cell_type": "code",
      "source": [
        "# Evaluation Metrics\n",
        "from sympy import count_ops\n",
        "from sklearn.metrics import r2_score, mean_absolute_percentage_error, mean_squared_error\n",
        "\n",
        "def relative_error(actual, predicted):\n",
        "  mse = mean_squared_error(actual, predicted)\n",
        "  sqrt = np.sqrt(mse)\n",
        "  return sqrt/np.mean(actual) \n",
        "\n",
        "\n",
        "def complexity(equation):\n",
        "  l = count_ops(equation)\n",
        "  return l\n",
        "\n",
        "\n",
        "def model_score(row):\n",
        "  return (row[2] + row[5])*50 - row[8]"
      ],
      "metadata": {
        "id": "tctf9k-79dvN"
      },
      "execution_count": 74,
      "outputs": []
    },
    {
      "cell_type": "code",
      "source": [
        "# Store Equations in Array\n",
        "\n",
        "# Store:\n",
        "# Equation, train metrics, test metrics, complexity, model score\n",
        "\n",
        "learned_equations = []"
      ],
      "metadata": {
        "id": "_j_ckrRD3FPc"
      },
      "execution_count": 75,
      "outputs": []
    },
    {
      "cell_type": "code",
      "execution_count": 76,
      "metadata": {
        "id": "2oErZYt7lY6L"
      },
      "outputs": [],
      "source": [
        "# Load Data\n",
        "import pandas as pd\n",
        "import numpy as np\n",
        "\n",
        "observed_data = np.array(pd.read_csv('/content/drive/MyDrive/Project/observed.csv'))\n",
        "\n",
        "X_observed = observed_data[:, [0, 1, 2, 3]]\n",
        "Y_observed = observed_data[:, 4]"
      ]
    },
    {
      "cell_type": "code",
      "source": [
        "# Split Data (state = 1 for consistency)\n",
        "from sklearn.model_selection import train_test_split\n",
        "\n",
        "X_observed_train, X_observed_test, Y_observed_train, Y_observed_test = train_test_split(X_observed, Y_observed, random_state=1, train_size=0.8)"
      ],
      "metadata": {
        "id": "Z0PKW5Wm8xoM"
      },
      "execution_count": 77,
      "outputs": []
    },
    {
      "cell_type": "markdown",
      "source": [
        "Linear Regression"
      ],
      "metadata": {
        "id": "GcPQahYJ8hhi"
      }
    },
    {
      "cell_type": "code",
      "source": [
        "from sklearn.linear_model import LinearRegression\n",
        "from sklearn.metrics import r2_score, mean_absolute_percentage_error, mean_squared_error\n",
        "import sympy\n",
        "\n",
        "for i in range(len(X_observed[0])):\n",
        "  new_row = ['Linear Regression: Feature ' + str(i + 1)]\n",
        "  x_train, x_test = X_observed_train[:, [i]], X_observed_test[:, [i]]\n",
        "  linreg = LinearRegression()\n",
        "  linreg.fit(x_train, Y_observed_train)\n",
        "\n",
        "  eq = sympy.simplify(str(linreg.coef_[0]) + '*x' + str(i + 1) + '+' + str(linreg.intercept_))\n",
        "  new_row.append(str(eq))\n",
        "\n",
        "  trainpreds = linreg.predict(x_train)\n",
        "  new_row.append(r2_score(Y_observed_train, trainpreds))\n",
        "  new_row.append(mean_absolute_percentage_error(Y_observed_train, trainpreds))\n",
        "  new_row.append(relative_error(Y_observed_train, trainpreds))\n",
        "\n",
        "  testpreds = linreg.predict(x_test)\n",
        "  new_row.append(r2_score(Y_observed_test, testpreds))\n",
        "  new_row.append(mean_absolute_percentage_error(Y_observed_test, testpreds))\n",
        "  new_row.append(relative_error(Y_observed_test, testpreds))\n",
        "  \n",
        "  new_row.append(complexity(eq))\n",
        "\n",
        "  new_row.append(model_score(new_row))\n",
        "  learned_equations.append(new_row)"
      ],
      "metadata": {
        "id": "C5kbr0zK8_A_"
      },
      "execution_count": 72,
      "outputs": []
    },
    {
      "cell_type": "code",
      "source": [
        "np.savetxt(\"drive/MyDrive/Equation Learning/learned_equations-linear-reg.csv\", np.array(learned_equations), delimiter=\",\", fmt='%s')"
      ],
      "metadata": {
        "id": "MTSx85KV-po3"
      },
      "execution_count": 73,
      "outputs": []
    },
    {
      "cell_type": "markdown",
      "source": [
        "Add New Features for LASSO and EQL-NN"
      ],
      "metadata": {
        "id": "AV0_Bggr87fm"
      }
    },
    {
      "cell_type": "code",
      "source": [
        "# Flow Velocity\n",
        "flow_velocity_observed = np.transpose([np.power(X_observed[:, 2], 4)/(9.806*np.power(X_observed[:, 0], 2))])\n",
        "\n",
        "# Water Depth\n",
        "water_depth_observed = np.transpose([np.power(X_observed[:, 1], 3)/np.power(X_observed[:, 3], 4)])\n",
        "\n",
        "# Fr\n",
        "fr_observed = flow_velocity_observed/(np.sqrt(9.806*water_depth_observed))\n",
        "\n",
        "# Re\n",
        "re_observed = np.multiply(flow_velocity_observed, water_depth_observed)/0.000001\n",
        "\n",
        "# Re*\n",
        "re_shear_observed = np.multiply(np.transpose([X_observed[:, 1]]), water_depth_observed)/0.000001\n",
        "\n",
        "X_observed = np.concatenate((X_observed, flow_velocity_observed, water_depth_observed, fr_observed, re_observed, re_shear_observed), axis=1)"
      ],
      "metadata": {
        "id": "Fy1eILHb8mG7"
      },
      "execution_count": 78,
      "outputs": []
    },
    {
      "cell_type": "code",
      "source": [
        "# Check Shape\n",
        "print(X_observed.shape, Y_observed.shape)"
      ],
      "metadata": {
        "colab": {
          "base_uri": "https://localhost:8080/"
        },
        "id": "7LdP1DLPwd8V",
        "outputId": "32309351-7e34-4962-d00e-50f1acf2cbcd"
      },
      "execution_count": 82,
      "outputs": [
        {
          "output_type": "stream",
          "name": "stdout",
          "text": [
            "(588, 9) (588,)\n"
          ]
        }
      ]
    },
    {
      "cell_type": "code",
      "source": [
        "# Split Data (state = 1 for consistency)\n",
        "from sklearn.model_selection import train_test_split\n",
        "\n",
        "X_observed_train, X_observed_test, Y_observed_train, Y_observed_test = train_test_split(X_observed, Y_observed, random_state=1, train_size=0.8)"
      ],
      "metadata": {
        "id": "TFUTYs-Q14qH"
      },
      "execution_count": 80,
      "outputs": []
    },
    {
      "cell_type": "markdown",
      "source": [
        "Lasso"
      ],
      "metadata": {
        "id": "leFaaz2I8nF1"
      }
    },
    {
      "cell_type": "code",
      "source": [
        "from sklearn.linear_model import Lasso\n",
        "from sklearn.metrics import r2_score, mean_absolute_percentage_error, mean_squared_error\n",
        "\n",
        "alphas = [0.5, 0.1, 0.05, 0.01, 0.005, 0.001, 0.0005, 0.0001]\n",
        "best_score = 0\n",
        "best_row = []\n",
        "best_alpha = 0\n",
        "\n",
        "for alpha in alphas:\n",
        "  new_row = ['Features Used: LASSO']\n",
        "\n",
        "  lasso = Lasso(alpha=alpha)\n",
        "  lasso.fit(X_observed_train, Y_observed_train)\n",
        "\n",
        "  equation = ''\n",
        "  i = 0\n",
        "  for coef in lasso.coef_:\n",
        "    equation += str(coef) + '*x_' + str(i + 1) + '+'\n",
        "    i += 1\n",
        "  equation += str(lasso.intercept_)\n",
        "  eq = sympy.simplify(equation)\n",
        "\n",
        "  new_row.append(str(eq))\n",
        "\n",
        "  trainpreds = lasso.predict(X_observed_train)\n",
        "  new_row.append( r2_score(Y_observed_train, trainpreds))\n",
        "  new_row.append(mean_absolute_percentage_error(Y_observed_train, trainpreds))\n",
        "  new_row.append(relative_error(Y_observed_train, trainpreds))\n",
        "\n",
        "  testpreds = lasso.predict(X_observed_test)\n",
        "  new_row.append(r2_score(Y_observed_test, testpreds))\n",
        "  new_row.append(mean_absolute_percentage_error(Y_observed_test, testpreds))\n",
        "  new_row.append(relative_error(Y_observed_test, testpreds))\n",
        "  \n",
        "  new_row.append(complexity(eq))\n",
        "\n",
        "  if model_score(new_row) > best_score:\n",
        "    new_row.append(model_score(new_row))\n",
        "    best_row = new_row\n",
        "    best_alpha = alpha\n",
        "learned_equations.append(best_row)\n",
        "print('Best Alpha:', best_alpha)"
      ],
      "metadata": {
        "id": "YmikLkMiAymf"
      },
      "execution_count": null,
      "outputs": []
    },
    {
      "cell_type": "code",
      "source": [
        "np.savetxt(\"drive/MyDrive/Equation Learning/learned_equations-LASSO.csv\", np.array(learned_equations), delimiter=\",\", fmt='%s')"
      ],
      "metadata": {
        "id": "ScsEaW9vA7z3"
      },
      "execution_count": 62,
      "outputs": []
    },
    {
      "cell_type": "markdown",
      "source": [
        "EQL-NN"
      ],
      "metadata": {
        "id": "J-rcHLql8slI"
      }
    },
    {
      "cell_type": "code",
      "source": [
        "# Load EQL-NN\n",
        "!pip install EQL-NN\n",
        "from EQL.model import EQL\n",
        "import tensorflow as tf"
      ],
      "metadata": {
        "id": "n8gf1HV6wggA"
      },
      "execution_count": null,
      "outputs": []
    },
    {
      "cell_type": "code",
      "source": [
        "# Convert EQL-NN Weights + Biases to Equation\n",
        "import sympy\n",
        "funcs = ['id', 'sin', 'cos', 'sig', 'mult']\n",
        "def generate_learned_equation(EQLmodel, hidden_layers, num_features, funcs, exclude):\n",
        "  # Initialize y\n",
        "  y = []\n",
        "  for f in range(num_features):\n",
        "    y.append('x_' + str(f + 1))\n",
        "\n",
        "  for l in range(hidden_layers + 1):\n",
        "    layer = EQLmodel.get_weights(layer=l + 1)\n",
        "\n",
        "    # Multiply weights\n",
        "    weights = np.transpose(layer[0])\n",
        "    z = []\n",
        "    for row in weights:\n",
        "      new_row = ''\n",
        "      for i in range(len(row)):\n",
        "        if i == 0:\n",
        "          new_row += str(row[i]) + '*(' + y[i] + ')'\n",
        "        else:\n",
        "          new_row += ' + ' + str(row[i]) + '*(' + y[i] + ')'\n",
        "      z.append(new_row)\n",
        "\n",
        "    # Add biases\n",
        "    biases = layer[1]\n",
        "    for i in range(len(biases)):\n",
        "      z[i] = str(z[i]) + ' + ' + str(biases[i])\n",
        "\n",
        "    # Apply functions (Skip if last layer)\n",
        "    if l != hidden_layers:\n",
        "\n",
        "      # Get functions for this layer\n",
        "      if len(exclude) > 0:\n",
        "        exclude_funcs = exclude[l]\n",
        "        layer_funcs = [func for func in funcs if func not in exclude_funcs]\n",
        "      else:\n",
        "        layer_funcs = funcs\n",
        "\n",
        "      new_y = []\n",
        "      f_functions = z[:-2]\n",
        "      g_functions = z[-2:]\n",
        "\n",
        "      for i in range(len(layer_funcs)):\n",
        "        if layer_funcs[i] == 'id':\n",
        "          new_y.append(z[i])\n",
        "        elif layer_funcs[i] != 'mult':\n",
        "          new_y.append(layer_funcs[i] + '(' + z[i] + ')')\n",
        "        elif layer_funcs[i] == 'mult':\n",
        "          new_y.append('(' + z[i] + ')' + '*(' + z[i+1] + ')')\n",
        "      y = new_y\n",
        "\n",
        "    else:\n",
        "      y = z\n",
        "\n",
        "  return sympy.simplify(y[0])"
      ],
      "metadata": {
        "id": "cZN7q2C2xnL-"
      },
      "execution_count": null,
      "outputs": []
    },
    {
      "cell_type": "code",
      "source": [
        "# Recursively Get All Combos of features\n",
        "features = [1, 2, 3, 4, 5, 6, 7, 8, 9]\n",
        "\n",
        "def combinations(l):\n",
        "    if l:\n",
        "      result = combinations(l[:-1])\n",
        "      return result + [c + [l[-1]] for c in result]\n",
        "    else:\n",
        "      return [[]]\n",
        "\n",
        "combos = combinations(features)"
      ],
      "metadata": {
        "id": "_gHX1Mzv2TGu"
      },
      "execution_count": null,
      "outputs": []
    },
    {
      "cell_type": "code",
      "source": [
        "print(len(combos))"
      ],
      "metadata": {
        "colab": {
          "base_uri": "https://localhost:8080/"
        },
        "id": "PEuUVY_IXQlV",
        "outputId": "6c0b3c5e-148a-4c52-da0b-31294a20f3be"
      },
      "execution_count": null,
      "outputs": [
        {
          "output_type": "stream",
          "name": "stdout",
          "text": [
            "512\n"
          ]
        }
      ]
    },
    {
      "cell_type": "code",
      "source": [
        "# Loop through each variable + trig or no trig (have to do division separately)\n",
        "tracker = 0\n",
        "for combo in combos:\n",
        "  print(tracker)\n",
        "  if len(combo) > 0:\n",
        "    label = 'Feature(s):'\n",
        "    for feature in combo:\n",
        "      label += ' ' + str(feature)\n",
        "    print(label)\n",
        "    # No Trig\n",
        "    new_row = [label]\n",
        "\n",
        "    x_train = X_observed_train[:, np.array(combo) - 1]\n",
        "    x_test = X_observed_test[:, np.array(combo) - 1]\n",
        "\n",
        "    EQLmodel = EQL(num_layers=1, dim=len(combo))\n",
        "    EQLmodel.build_and_compile_model(exclude=[['sin', 'cos', 'sig']])\n",
        "    EQLmodel.fit(x_train, Y_observed_train, t0=2000, t1=1800, t2=600, lmbda=0.001, batch_size=32)\n",
        "\n",
        "    equation = generate_learned_equation(EQLmodel, 1, len(combo), funcs, [['sin', 'cos', 'sig']])\n",
        "    new_row.append(str(equation))\n",
        "\n",
        "    trainpreds = EQLmodel.predict(x_train)\n",
        "    try:\n",
        "      new_row.append(r2_score(Y_observed_train, trainpreds))\n",
        "    except:\n",
        "      new_row.append('-')\n",
        "    try:\n",
        "      new_row.append(mean_absolute_percentage_error(Y_observed_train, trainpreds))\n",
        "    except:\n",
        "      new_row.append('-')\n",
        "    try:\n",
        "      new_row.append(relative_error(Y_observed_train, trainpreds))\n",
        "    except:\n",
        "      new_row.append('-')\n",
        "\n",
        "    testpreds = EQLmodel.predict(x_test)\n",
        "    try:\n",
        "      new_row.append(r2_score(Y_observed_test, testpreds))\n",
        "    except:\n",
        "      new_row.append('-')\n",
        "    try:\n",
        "      new_row.append(mean_absolute_percentage_error(Y_observed_test, testpreds))\n",
        "    except:\n",
        "      new_row.append('-')\n",
        "    try:\n",
        "      new_row.append(relative_error(Y_observed_test, testpreds))\n",
        "    except:\n",
        "      new_row.append('-')\n",
        "\n",
        "    new_row.append(complexity(equation))\n",
        "\n",
        "    learned_equations.append(new_row)\n",
        "\n",
        "    # Trig\n",
        "    new_row = [label]\n",
        "\n",
        "    x_train = X_observed_train[:, np.array(combo) - 1]\n",
        "    x_test = X_observed_test[:, np.array(combo) - 1]\n",
        "\n",
        "\n",
        "    EQLmodel = EQL(num_layers=1, dim=len(combo))\n",
        "    EQLmodel.build_and_compile_model(exclude=['sig'])\n",
        "    EQLmodel.fit(x_train, Y_observed_train, t0=2000, t1=1800, t2=600, lmbda=0.001, batch_size=32)\n",
        "\n",
        "    equation = generate_learned_equation(EQLmodel, 1, len(combo), funcs, [['sig']])\n",
        "    new_row.append(str(equation))\n",
        "\n",
        "    trainpreds = EQLmodel.predict(x_train)\n",
        "    try:\n",
        "      new_row.append(r2_score(Y_observed_train, trainpreds))\n",
        "    except:\n",
        "      new_row.append('-')\n",
        "    try:\n",
        "      new_row.append(mean_absolute_percentage_error(Y_observed_train, trainpreds))\n",
        "    except:\n",
        "      new_row.append('-')\n",
        "    try:\n",
        "      new_row.append(relative_error(Y_observed_train, trainpreds))\n",
        "    except:\n",
        "      new_row.append('-')\n",
        "\n",
        "    testpreds = EQLmodel.predict(x_test)\n",
        "    try:\n",
        "      new_row.append(r2_score(Y_observed_test, testpreds))\n",
        "    except:\n",
        "      new_row.append('-')\n",
        "    try:\n",
        "      new_row.append(mean_absolute_percentage_error(Y_observed_test, testpreds))\n",
        "    except:\n",
        "      new_row.append('-')\n",
        "    try:\n",
        "      new_row.append(relative_error(Y_observed_test, testpreds))\n",
        "    except:\n",
        "      new_row.append('-')\n",
        "\n",
        "    new_row.append(complexity(equation))\n",
        "\n",
        "    new_row.append(model_score(new_row))\n",
        "\n",
        "    learned_equations.append(new_row)\n",
        "\n",
        "    np.savetxt(\"drive/MyDrive/Equation Learning/learned_equations.csv\", np.array(learned_equations), delimiter=\",\", fmt='%s')\n",
        "\n",
        "  tracker += 1"
      ],
      "metadata": {
        "id": "DbiO_AXNy5wS"
      },
      "execution_count": null,
      "outputs": []
    }
  ]
}